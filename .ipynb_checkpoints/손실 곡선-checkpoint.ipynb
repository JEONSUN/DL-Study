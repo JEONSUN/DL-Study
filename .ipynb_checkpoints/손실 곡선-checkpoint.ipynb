{
 "cells": [
  {
   "cell_type": "markdown",
   "metadata": {},
   "source": [
    "# 손실 곡선\n",
    "\n",
    "Keras에서는 fit() 메서드로 모델을 훈련하면 \n",
    "\n",
    "\n",
    "**<center> \n",
    "    <tensorflow.python.keras.callbacks.History at 0x1e1a2003970> \n",
    "    <center>**\n",
    "    \n",
    "    "
   ]
  },
  {
   "cell_type": "markdown",
   "metadata": {},
   "source": [
    "이런 메시지가 같이 출력된다.\n",
    "\n",
    "이 메시지는 fit()메서드의 실행 결과를 출력한 것이며 **케라스의 fit()메서드는 History 클래스 객체를 반환한다는 것**을 알 수 있었다.\n",
    "\n",
    "History 객체에는 훈련 과정에서 계산한 지표, 즉 손실과 정확도 값이 저장되어 있어 손실 곡선 그래프를 그리는데 도움을 준다.\n",
    "\n",
    "다시 모델을 요약해보자.(이전과 같이 패션 mnist 데이터셋을 활용하여 train,valid셋을 만들었다.)"
   ]
  },
  {
   "cell_type": "code",
   "execution_count": 33,
   "metadata": {},
   "outputs": [],
   "source": [
    "# 데이터 불러오기\n",
    "from tensorflow import keras\n",
    "from sklearn.model_selection import train_test_split\n",
    "(train_input, train_target),(test_input, test_target) = keras.datasets.fashion_mnist.load_data()"
   ]
  },
  {
   "cell_type": "code",
   "execution_count": null,
   "metadata": {},
   "outputs": [],
   "source": []
  }
 ],
 "metadata": {
  "kernelspec": {
   "display_name": "Python 3",
   "language": "python",
   "name": "python3"
  },
  "language_info": {
   "codemirror_mode": {
    "name": "ipython",
    "version": 3
   },
   "file_extension": ".py",
   "mimetype": "text/x-python",
   "name": "python",
   "nbconvert_exporter": "python",
   "pygments_lexer": "ipython3",
   "version": "3.8.5"
  }
 },
 "nbformat": 4,
 "nbformat_minor": 4
}
