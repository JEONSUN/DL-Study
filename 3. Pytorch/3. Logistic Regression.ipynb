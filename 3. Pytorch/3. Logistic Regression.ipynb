{
 "cells": [
  {
   "cell_type": "markdown",
   "metadata": {},
   "source": [
    "# 로지스틱 회귀(Logistic Regression)"
   ]
  },
  {
   "cell_type": "markdown",
   "metadata": {},
   "source": [
    "시험을 봤을 때, 합격인지 불합격인지, 메일을 받았을 때 정상 메일인지 스팸 메일인지 둘 중 하나를 결정하는 문제를 겪어볼 수 있다. 이렇게 둘 중 하나를 결정하는 문제를 **이진 분류(Binary Classification)**라고 한다.\n",
    "\n",
    "그리고 이러한 이진 분류를 풀기 위한 알고리즘으로 **로지스틱 회귀(Logistic Regression)**을 사용한다.\n"
   ]
  },
  {
   "cell_type": "markdown",
   "metadata": {},
   "source": [
    "## 이진 분류(BInary Classification)\n"
   ]
  },
  {
   "cell_type": "markdown",
   "metadata": {},
   "source": [
    "- **예제 데이터**\n",
    "\n",
    "자격증은 60점 이상이 되어야 합격, 미만일경우 불합격이다. 자격증 시험 성적이 x라면, 합격 불합격 여부는 y인 데이터를 임의로 생성했다.\n",
    "\n",
    "- **목표**\n",
    "\n",
    "생성한 데이터로부터 특정 점수를 얻었을 때의 합, 불합 여부를 판정하는 모델을 만들고자 한다.\n",
    "\n",
    "|Score(x)|result(y)|\n",
    "|---|---|\n",
    "|30|불합격|\n",
    "|36|불합격|\n",
    "|42|불합격|\n",
    "|46|불합격|\n",
    "|52|불합격|\n",
    "|44|불합격|\n",
    "|56|불합격|\n",
    "|58|불합격|\n",
    "|56|불합격|\n",
    "|62|합격|\n",
    "|70|합격|\n",
    "|80|합격|\n",
    "|64|합격|\n",
    "|62|합격|\n",
    "|76|합격|\n",
    "|72|합격|\n",
    "|70|합격|"
   ]
  },
  {
   "cell_type": "code",
   "execution_count": 30,
   "metadata": {},
   "outputs": [],
   "source": [
    "import numpy as np\n",
    "import pandas as pd\n",
    "import matplotlib.pyplot as plt\n",
    "import torch\n",
    "import torch.nn as nn\n",
    "import torch.optim as optim"
   ]
  },
  {
   "cell_type": "markdown",
   "metadata": {},
   "source": [
    "## 데이터셋 생성"
   ]
  },
  {
   "cell_type": "code",
   "execution_count": 21,
   "metadata": {},
   "outputs": [],
   "source": [
    "dic = {30:\"불합격\",36:\"불합격\",42:\"불합격\",46:\"불합격\",52:\"불합격\",44:\"불합격\",56:\"불합격\",58:\"불합격\",\n",
    "       56:\"불합격\",58:\"불합격\",56:\"불합격\",62:\"합격\",70:\"합격\",80:\"합격\",64:\"합격\",62:\"합격\",76:\"합격\",\n",
    "      72:\"합격\",70:\"합격\"}\n",
    "\n",
    "data = pd.DataFrame(dic.items(), columns = ['score','result'])"
   ]
  },
  {
   "cell_type": "code",
   "execution_count": 26,
   "metadata": {},
   "outputs": [
    {
     "data": {
      "text/html": [
       "<div>\n",
       "<style scoped>\n",
       "    .dataframe tbody tr th:only-of-type {\n",
       "        vertical-align: middle;\n",
       "    }\n",
       "\n",
       "    .dataframe tbody tr th {\n",
       "        vertical-align: top;\n",
       "    }\n",
       "\n",
       "    .dataframe thead th {\n",
       "        text-align: right;\n",
       "    }\n",
       "</style>\n",
       "<table border=\"1\" class=\"dataframe\">\n",
       "  <thead>\n",
       "    <tr style=\"text-align: right;\">\n",
       "      <th></th>\n",
       "      <th>score</th>\n",
       "      <th>result</th>\n",
       "    </tr>\n",
       "  </thead>\n",
       "  <tbody>\n",
       "    <tr>\n",
       "      <th>0</th>\n",
       "      <td>30</td>\n",
       "      <td>불합격</td>\n",
       "    </tr>\n",
       "    <tr>\n",
       "      <th>1</th>\n",
       "      <td>36</td>\n",
       "      <td>불합격</td>\n",
       "    </tr>\n",
       "    <tr>\n",
       "      <th>2</th>\n",
       "      <td>42</td>\n",
       "      <td>불합격</td>\n",
       "    </tr>\n",
       "    <tr>\n",
       "      <th>3</th>\n",
       "      <td>46</td>\n",
       "      <td>불합격</td>\n",
       "    </tr>\n",
       "    <tr>\n",
       "      <th>4</th>\n",
       "      <td>52</td>\n",
       "      <td>불합격</td>\n",
       "    </tr>\n",
       "  </tbody>\n",
       "</table>\n",
       "</div>"
      ],
      "text/plain": [
       "   score result\n",
       "0     30    불합격\n",
       "1     36    불합격\n",
       "2     42    불합격\n",
       "3     46    불합격\n",
       "4     52    불합격"
      ]
     },
     "execution_count": 26,
     "metadata": {},
     "output_type": "execute_result"
    }
   ],
   "source": [
    "data.head()"
   ]
  },
  {
   "cell_type": "code",
   "execution_count": 27,
   "metadata": {},
   "outputs": [],
   "source": [
    "# 합격을 1 불합격을 0으로\n",
    "data['result']= data.result.apply(lambda x : 1 if x == \"합격\" else 0)"
   ]
  },
  {
   "cell_type": "markdown",
   "metadata": {},
   "source": [
    "## 데이터 시각화"
   ]
  },
  {
   "cell_type": "code",
   "execution_count": 39,
   "metadata": {},
   "outputs": [
    {
     "data": {
      "image/png": "[encoded data removed]",
      "text/plain": [
       "<Figure size 432x288 with 1 Axes>"
      ]
     },
     "metadata": {
      "needs_background": "light"
     },
     "output_type": "display_data"
    }
   ],
   "source": [
    "plt.plot(data['score'],data['result'])\n",
    "plt.grid()\n",
    "plt.xlabel('score', fontsize = 14)\n",
    "plt.ylabel('result', fontsize = 14)\n",
    "plt.show()"
   ]
  },
  {
   "cell_type": "markdown",
   "metadata": {},
   "source": [
    "**이진 분류에서의 그래프는 S자 형태**로 표현된다. 이러한 x와 y의 관계를 설명하기 위해선 하나의 직선 함수로는 반영하기가 어려우며 분류 작업이 잘 작동하지 않는다.\n",
    "\n",
    "로지스틱 회귀 가설에서는 선형 회귀 때의 $H(x) = W_x + b$가 아닌 S자 모양의 그래프를 만들 수 있는 $f$를 추가적으로 사용하여 $H(x) = f(W_x + b)$를 사용한다. 이때 사용하는 $f$가 **시그모이드 함수**이다."
   ]
  },
  {
   "cell_type": "markdown",
   "metadata": {},
   "source": [
    "## 시그모이드 함수(Sigmoid Function)\n",
    "\n",
    "### $$ H(x) = sigmoid(W_x + b) = {1 \\over 1 + e^-(W_x + b)}$$\n",
    "\n",
    "선형 회귀에서 최적의 $W$와 $b$를 찾는 것이 목표였듯, 시그모이드에서도 마찬가지다.\n",
    "\n",
    "그렇다면 시그모이드에의 $W$와 $b$가 무엇을 의미하는지 그래프로 확인하자."
   ]
  },
  {
   "cell_type": "code",
   "execution_count": 41,
   "metadata": {},
   "outputs": [],
   "source": [
    "# 시그모이드 정의\n",
    "def sigmoid(x) :\n",
    "    return 1/(1+np.exp(-x))"
   ]
  },
  {
   "cell_type": "markdown",
   "metadata": {},
   "source": [
    "### $W$가 1이고 $b$가 0인 그래프"
   ]
  },
  {
   "cell_type": "code",
   "execution_count": 42,
   "metadata": {},
   "outputs": [
    {
     "data": {
      "image/png": "[encoded data removed]",
      "text/plain": [
       "<Figure size 432x288 with 1 Axes>"
      ]
     },
     "metadata": {
      "needs_background": "light"
     },
     "output_type": "display_data"
    }
   ],
   "source": [
    "x = np.arange(-5.0, 5.0, 0.1)\n",
    "y = sigmoid(x)\n",
    "\n",
    "plt.plot(x,y, 'r')\n",
    "plt.plot([0,0],[1.0,0.0], ':') # 0을 기준점\n",
    "plt.title('Sigmoid Function')\n",
    "plt.show()"
   ]
  },
  {
   "cell_type": "markdown",
   "metadata": {},
   "source": [
    "**x가 0일 때 0.5의 값을 가진다.**\n",
    "\n",
    "**또한, x가 작아지면 0에 수렴하고, x가 커지면 1에 수렴한다.**"
   ]
  },
  {
   "cell_type": "markdown",
   "metadata": {},
   "source": [
    "### $W$값 변화"
   ]
  },
  {
   "cell_type": "code",
   "execution_count": 46,
   "metadata": {},
   "outputs": [
    {
     "data": {
      "image/png": "[encoded data removed]",
      "text/plain": [
       "<Figure size 432x288 with 1 Axes>"
      ]
     },
     "metadata": {
      "needs_background": "light"
     },
     "output_type": "display_data"
    }
   ],
   "source": [
    "x = np.arange(-5, 5, 0.1)\n",
    "y = sigmoid(0.5*x)\n",
    "y1 = sigmoid(x)\n",
    "y2 = sigmoid(2*x)\n",
    "\n",
    "plt.plot(x, y,'g', linestyle = '--')\n",
    "plt.plot(x, y1,'r')\n",
    "plt.plot(x, y2,'b',linestyle = '--')\n",
    "plt.plot([0,0],[1,0],':')\n",
    "plt.title('Sigmoid Function')\n",
    "plt.show()"
   ]
  },
  {
   "cell_type": "markdown",
   "metadata": {},
   "source": [
    "**$W$의 변화에 따라 그래프의 경사도가 변한다** 선형 회귀에서는 가중치 $W$가 직선의 기울기를 의미했지만 로지스틱에서는 **그래프의 경사도**를 결정한다.\n",
    "\n",
    "$W$의 값이 커지면 경사가 커지고, $W$의 값이 작아지면 경사가 작아진다."
   ]
  },
  {
   "cell_type": "markdown",
   "metadata": {},
   "source": [
    "### $b$값 변화"
   ]
  },
  {
   "cell_type": "code",
   "execution_count": 48,
   "metadata": {},
   "outputs": [
    {
     "data": {
      "image/png": "[encoded data removed]",
      "text/plain": [
       "<Figure size 432x288 with 1 Axes>"
      ]
     },
     "metadata": {
      "needs_background": "light"
     },
     "output_type": "display_data"
    }
   ],
   "source": [
    "x = np.arange(-5, 5, 0.1)\n",
    "y = sigmoid(x + 0.5)\n",
    "y1 = sigmoid(x)\n",
    "y2 = sigmoid(x - 2)\n",
    "\n",
    "plt.plot(x, y,'g', linestyle = '--')\n",
    "plt.plot(x, y1,'r')\n",
    "plt.plot(x, y2,'b',linestyle = '--')\n",
    "plt.plot([0,0],[1,0],':')\n",
    "plt.title('Sigmoid Function')\n",
    "plt.show()"
   ]
  },
  {
   "cell_type": "markdown",
   "metadata": {},
   "source": [
    "**$b$를 변화시키면 그래프가 좌, 우로 이동하는 것을 볼 수 있다.** \n",
    "\n",
    "$b$가 커지면 좌측으로, $b$가 작아지면 우측으로 이동한다."
   ]
  },
  {
   "cell_type": "markdown",
   "metadata": {},
   "source": [
    "시그모이드는 x가 커질수록 1에 수렴하고, x가 작아질수록 0에 수렴한다. y는 항상 0과 1사이의 값을 가지는데 이 특성을 이용하면 분류 작업에 사용할 수 있다. \n"
   ]
  }
 ],
 "metadata": {
  "kernelspec": {
   "display_name": "Python 3 (ipykernel)",
   "language": "python",
   "name": "python3"
  },
  "language_info": {
   "codemirror_mode": {
    "name": "ipython",
    "version": 3
   },
   "file_extension": ".py",
   "mimetype": "text/x-python",
   "name": "python",
   "nbconvert_exporter": "python",
   "pygments_lexer": "ipython3",
   "version": "3.8.5"
  }
 },
 "nbformat": 4,
 "nbformat_minor": 4
}
