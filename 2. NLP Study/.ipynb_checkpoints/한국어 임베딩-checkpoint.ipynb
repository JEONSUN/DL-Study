{
 "cells": [
  {
   "cell_type": "markdown",
   "metadata": {},
   "source": [
    "## 한국어 임베딩\n",
    "\n",
    "\n",
    "### 임베딩이란?\n",
    "\n",
    "- 자연어처리에서 **임베딩이란 사람이 쓰는 자연어를 기계가 이해할 수 있는 숫자의 나열**인 **벡터(vector)로 바꾼 결과 혹은 그 일련의 과정 전체**를 의미한다.\n",
    "\n",
    "- 단어나 문장 각각을 벡터로 변환해 **벡터 공간(vector space)로 '끼워 넣는다'(embed)**는 의미에서 임베딩이라는 이름이 붙었다.\n",
    "\n",
    "***\n",
    "\n",
    "### 임베딩의 역할\n",
    "***\n",
    "#### 1. 단어/문장 간 관련도 계산\n",
    "\n",
    "- 단어-문서 행렬은 가장 단순한 형태의 임베딩이다. \n",
    "- 대표적인 것은 **Word2Vec**라는 기법이다\n",
    "> : 이름에서 유추할 수 있듯 단어들을 벡터로 바꾸는 방법이다.\n",
    "\n",
    "#### 2. 의미/문법 정보 함축\n",
    "\n",
    "- 임베딩은 벡터인 만큼 사칙연산이 가능하다.\n",
    "\n",
    "- 단어 벡터 간 덧셈/뺄셈을 통해 단어들 사이의 의미적, 문법적 관계를 도출해낼 수 있다.\n",
    "> - 구체적으로는 **첫번째 단어 벡터 - 두 번째 단어 벡터 + 세 번째 단어 벡터**를 계산해보는 것이다.<br>\n",
    "> - **아들 - 딸 + 소녀 = 소년**이 성립하면 성공적인 임베딩이라고 볼 수 있다.<br>\n",
    "> - 다시 말해 **아들 - 딸 사이의 관계**와 **소년 - 소녀 사이의 의미 차이**가 임베딩에 함축돼 있으면 품질이 좋은 임베딩이라 말할 수 있다는 이야기다.\n",
    "\n",
    "- 이렇게 단어 임베딩을 평가하는 방법을 **단어 유추 평가(word analogy test)**라고 부른다.\n",
    "\n",
    "#### 3. 전이 학습\n",
    "\n",
    "- 임베딩은 다른 딥러닝 모델의 입력값으로 자주 쓰인다. 문서 분류를 위한 딥러닝 모델을 만들 경우 품질 좋은 임베딩을 쓰면 문서 분류 정확도와 학습 속도가 올라간다. 이렇게 임베딩을 다른 딥러닝 모델의 입력값으로 쓰는 기법을 **전이 학습(transfer learning)**이라고 한다.\n",
    "\n",
    "> 사람은 무언가를 배울 때 제로에서 시작하지 않는다. 평생 쌓아 온 지식을 바탕으로 새로운 사실을 빠르게 이해한다.<br>\n",
    "> 전이 학습 모델 역시 제로(0)부터 시작하지 않는다. 대규모 말뭉치를 활용해 임베딩을 미리 만들어 놓는다. <br>\n",
    "> 임베딩에는 의미적, 문법적 정보 등이 녹아 있다. 이 임베딩을 입력값으로 쓰는 전이 학습 모델은 문서 분류라는 태스크를 빠르게 잘 할 수 있게 된다."
   ]
  },
  {
   "cell_type": "code",
   "execution_count": 1,
   "metadata": {},
   "outputs": [
    {
     "data": {
      "text/plain": [
       "['자연어', '처리', '공부', '는', '재미', '가', '있', '어요']"
      ]
     },
     "execution_count": 1,
     "metadata": {},
     "output_type": "execute_result"
    }
   ],
   "source": [
    "from konlpy.tag import Mecab\n",
    "tokenizer = Mecab('C:\\mecab\\mecab-ko-dic')\n",
    "tokenizer.morphs(\"자연어 처리 공부는 재미가 있어요\")"
   ]
  }
 ],
 "metadata": {
  "kernelspec": {
   "display_name": "Python 3 (ipykernel)",
   "language": "python",
   "name": "python3"
  },
  "language_info": {
   "codemirror_mode": {
    "name": "ipython",
    "version": 3
   },
   "file_extension": ".py",
   "mimetype": "text/x-python",
   "name": "python",
   "nbconvert_exporter": "python",
   "pygments_lexer": "ipython3",
   "version": "3.8.5"
  }
 },
 "nbformat": 4,
 "nbformat_minor": 4
}
